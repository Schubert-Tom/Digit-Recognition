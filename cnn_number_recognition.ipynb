{
 "cells": [
  {
   "cell_type": "markdown",
   "metadata": {},
   "source": [
    "# CNN for Number Recognition \n",
    "Author: Tom Schubert\n",
    "\n",
    "### Quellen:\n",
    "1. https://nextjournal.com/gkoehler/pytorch-mnist\n",
    "2. https://ravivaishnav20.medium.com/handwritten-digit-recognition-using-pytorch-get-99-5-accuracy-in-20-k-parameters-bcb0a2bdfa09\n",
    "3. pytorch docs"
   ]
  },
  {
   "cell_type": "code",
   "execution_count": 1,
   "metadata": {},
   "outputs": [],
   "source": [
    "\n",
    "import torch\n",
    "import torchvision\n",
    "import matplotlib.pyplot as plt\n",
    "import numpy as np"
   ]
  },
  {
   "cell_type": "markdown",
   "metadata": {},
   "source": [
    "# Hyperparameters"
   ]
  },
  {
   "cell_type": "code",
   "execution_count": 2,
   "metadata": {},
   "outputs": [
    {
     "data": {
      "text/plain": [
       "<torch._C.Generator at 0x10fddf610>"
      ]
     },
     "execution_count": 2,
     "metadata": {},
     "output_type": "execute_result"
    }
   ],
   "source": [
    "momentum = 0.9    # https://towardsdatascience.com/stochastic-gradient-descent-with-momentum-a84097641a5d\n",
    "epochs = 8           # Wie oft alle Images durch den Trainingsprozess laufen müssen\n",
    "learning_rate = 0.01   # Linearer Faktor in Gradient Decent zum skaliern der Gradientenänderung\n",
    "# Defines how many pictures are getting processed parallel (before backpropagation)\n",
    "batch_size_train = 128   # batch size for Training\n",
    "batch_size_test = 1000  # batch size for testing    https://stats.stackexchange.com/questions/164876/what-is-the-trade-off-between-batch-size-and-number-of-iterations-to-train-a-neu\n",
    "\n",
    "log_interval = 5\n",
    "\n",
    "# for random functions generate seed\n",
    "random_seed = 1\n",
    "torch.backends.cudnn.enabled = False\n",
    "torch.manual_seed(random_seed)"
   ]
  },
  {
   "cell_type": "markdown",
   "metadata": {},
   "source": [
    "# Download Dataset with specified Downloader"
   ]
  },
  {
   "cell_type": "code",
   "execution_count": 3,
   "metadata": {},
   "outputs": [],
   "source": [
    "# MNIST data Set comes in PILLOW Images with (28,28) and Intensity between 0-255\n",
    "# First gets downloaded\n",
    "# Second gets converted to FloatTensor with values between 0-1\n",
    "# Third gets Normalized with mean=0, stdev=1\n",
    "# Output is a Dataloader which is an iterable --° enumerate for tensers\n",
    "\n",
    "# If no transformation to a tensor is made the data can get read over the dataloader object \n",
    "'''\n",
    "import numpy as np\n",
    "print(train_loader.dataset[0][0])\n",
    "x=np.array(train_loader.dataset[0][0])\n",
    "print(x.shape)\n",
    "'''\n",
    "\n",
    "#https://pytorch.org/docs/stable/data.html\n",
    "train_loader = torch.utils.data.DataLoader(\n",
    "  # Download MNIST Dataset\n",
    "    # location\n",
    "    #for Training\n",
    "    # Download if not already downloaded\n",
    "    # Process Data:\n",
    "      #Transform to Tensor\n",
    "      # Normalize Data\n",
    "  # batch size\n",
    "  # Shuffle the training data to make it independent of the order\n",
    "  torchvision.datasets.MNIST('./data/', train=True, download=True,\n",
    "                              # Transdormation Pipeline  https://pytorch.org/vision/stable/transforms.html\n",
    "                             transform=torchvision.transforms.Compose([\n",
    "                               # Scale Image from 0-255 to 0-1  https://discuss.pytorch.org/t/how-does-transforms-totensor-work-and-computation-of-mean-and-std-values/9085\n",
    "                               torchvision.transforms.ToTensor(),\n",
    "                               # the mean=0, stdev=1 scaling, (Normalizing)  https://www.youtube.com/watch?v=dXB-KQYkzNU&ab_channel=deeplizard\n",
    "                               torchvision.transforms.Normalize(\n",
    "                                 (0.13195264339447021,), (0.30903369188308716,))\n",
    "                             ])),\n",
    "  batch_size=batch_size_train, shuffle=True)\n",
    "\n",
    "test_loader = torch.utils.data.DataLoader(\n",
    "    # Download MNIST Dataset\n",
    "    # location\n",
    "    #for Testing\n",
    "    # Download if not already downloaded\n",
    "    # Process Data:\n",
    "      #Transform to Tensor\n",
    "      # Normalize Data\n",
    "  # batch size\n",
    "  # Shuffle the training data to make it independent of the order\n",
    "  torchvision.datasets.MNIST('./data/', train=False, download=True,\n",
    "                             transform=torchvision.transforms.Compose([\n",
    "                               torchvision.transforms.ToTensor(),\n",
    "                               torchvision.transforms.Normalize(\n",
    "                                 (0.13195264339447021,), (0.30903369188308716,))\n",
    "                             ])),\n",
    "  batch_size=batch_size_test, shuffle=True)"
   ]
  },
  {
   "cell_type": "markdown",
   "metadata": {},
   "source": [
    "# Print some examples from dataset (Training Part)"
   ]
  },
  {
   "cell_type": "markdown",
   "metadata": {},
   "source": []
  },
  {
   "cell_type": "code",
   "execution_count": 4,
   "metadata": {},
   "outputs": [
    {
     "name": "stdout",
     "output_type": "stream",
     "text": [
      "0\n",
      "torch.Size([128, 1, 28, 28])\n",
      "tensor([4, 8, 8, 6, 7, 1, 0, 7, 1, 8, 7, 6, 4, 9, 1, 5, 3, 2, 6, 8, 8, 6, 9, 4,\n",
      "        6, 0, 4, 2, 6, 7, 0, 5, 8, 6, 0, 3, 5, 7, 4, 7, 5, 1, 6, 7, 3, 6, 0, 3,\n",
      "        1, 1, 2, 6, 7, 9, 8, 0, 7, 2, 4, 3, 6, 5, 9, 5, 2, 3, 5, 3, 5, 8, 9, 2,\n",
      "        7, 1, 2, 4, 0, 2, 0, 6, 7, 2, 9, 5, 7, 1, 2, 2, 3, 3, 8, 8, 1, 0, 5, 7,\n",
      "        5, 9, 6, 7, 2, 5, 9, 7, 5, 7, 1, 7, 8, 7, 8, 8, 8, 2, 1, 4, 1, 1, 3, 2,\n",
      "        9, 5, 1, 9, 0, 3, 0, 3])\n",
      "2.8089085\n"
     ]
    }
   ],
   "source": [
    "# iterate over the batches loaded by the loader\n",
    "#TENSORS: https://pytorch.org/tutorials/beginner/basics/tensorqs_tutorial.htm\n",
    "examples_train = enumerate(train_loader)\n",
    "#print(train_loader.dataset[0])--> get first dataset\n",
    "#next(examples_train)\n",
    "# batch_idx gives index of batch\n",
    "# train_data img data\n",
    "# targets labels\n",
    "batch_idx_training, (train_data, targets_training) = next(examples_train)\n",
    "# Index des batches\n",
    "print(batch_idx_training)\n",
    "#torch.Size([64, 1, 28, 28])\n",
    "# 64 Beispiele mit 28x28 Pixeln\n",
    "print(train_data.shape)\n",
    "print(targets_training)\n",
    "\n",
    "# GET std and mean from dataset based on the tensor vector which already got scaled down to 0-1\n",
    "#print(f\"Mean: {train_data.data.float().mean()}\") #on normal Dataset without normalize the value would be --> 0.13195264339447021\n",
    "#print(f\"Std: {train_data.data.float().std()}\") #on normal Dataset without normalize the value would be --> 0.30903369188308716\n",
    "\n",
    "# These Values are also taken for normalizing all data points --> (datapoint - mean) /std\n",
    "\n",
    "# Print numpy array of data\n",
    "nparray=np.array(train_data.data[0][0])\n",
    "#print(nparray)\n",
    "# GEt max value from array\n",
    "from numpy.lib.index_tricks import unravel_index\n",
    "x1,y1=unravel_index(nparray.argmax(), nparray.shape)\n",
    "print(nparray[x1,y1])\n",
    "# Plot data\n",
    "#plt.imshow(nparray)"
   ]
  },
  {
   "cell_type": "code",
   "execution_count": 5,
   "metadata": {},
   "outputs": [
    {
     "data": {
      "image/png": "[encoded data removed]",
      "text/plain": [
       "<Figure size 432x288 with 6 Axes>"
      ]
     },
     "metadata": {},
     "output_type": "display_data"
    }
   ],
   "source": [
    "fig = plt.figure()\n",
    "for i in range(6):\n",
    "  plt.subplot(2,3,i+1)\n",
    "  plt.tight_layout()\n",
    "  plt.imshow(train_data[i][0], cmap='gray')\n",
    "  plt.title(\"Label: {}\".format(targets_training[i]),color='green')\n",
    "  plt.xticks([])\n",
    "  plt.yticks([])"
   ]
  },
  {
   "cell_type": "markdown",
   "metadata": {},
   "source": [
    "# Print some examples from dataset (Test Part)"
   ]
  },
  {
   "cell_type": "code",
   "execution_count": 6,
   "metadata": {},
   "outputs": [
    {
     "name": "stdout",
     "output_type": "stream",
     "text": [
      "0\n",
      "torch.Size([128, 1, 28, 28])\n",
      "tensor([9, 2, 9, 3, 0, 0, 2, 0, 5, 1, 9, 7, 4, 8, 8, 7, 5, 7, 2, 3, 1, 2, 7, 2,\n",
      "        6, 8, 3, 3, 0, 8, 3, 1, 0, 7, 3, 0, 7, 7, 8, 5, 6, 7, 9, 7, 0, 0, 6, 7,\n",
      "        3, 9, 5, 7, 1, 5, 7, 1, 4, 1, 8, 3, 8, 8, 0, 3, 9, 7, 5, 0, 2, 9, 1, 3,\n",
      "        0, 3, 3, 8, 0, 7, 9, 8, 5, 2, 2, 5, 2, 3, 7, 4, 6, 4, 5, 6, 8, 6, 8, 9,\n",
      "        3, 8, 8, 2, 9, 4, 3, 1, 8, 3, 4, 4, 9, 3, 6, 7, 5, 0, 8, 8, 1, 3, 8, 3,\n",
      "        3, 6, 3, 4, 1, 4, 1, 9])\n"
     ]
    }
   ],
   "source": [
    "# iterate over the batches loaded by the loader\n",
    "#TENSORS: https://pytorch.org/tutorials/beginner/basics/tensorqs_tutorial.htm\n",
    "examples_test = enumerate(train_loader)\n",
    "#next(examples_test)\n",
    "batch_idx_test, (test_data, targets_test) = next(examples_test)\n",
    "# Index des batches\n",
    "print(batch_idx_test)\n",
    "#torch.Size([64, 1, 28, 28])\n",
    "# 64 Beispiele 1 Channel mit 28x28 Pixeln\n",
    "print(train_data.shape)\n",
    "print(targets_test)"
   ]
  },
  {
   "cell_type": "code",
   "execution_count": 7,
   "metadata": {},
   "outputs": [
    {
     "data": {
      "image/png": "[encoded data removed]",
      "text/plain": [
       "<Figure size 432x288 with 6 Axes>"
      ]
     },
     "metadata": {},
     "output_type": "display_data"
    }
   ],
   "source": [
    "fig = plt.figure()\n",
    "for i in range(6):\n",
    "  plt.subplot(2,3,i+1)\n",
    "  plt.tight_layout()\n",
    "  plt.imshow(test_data[i][0], cmap='gray')\n",
    "  plt.title(\"Label: {}\".format(targets_test[i]),color='green')\n",
    "  plt.xticks([])\n",
    "  plt.yticks([])"
   ]
  },
  {
   "cell_type": "markdown",
   "metadata": {},
   "source": [
    "# CNN"
   ]
  },
  {
   "cell_type": "code",
   "execution_count": 8,
   "metadata": {},
   "outputs": [],
   "source": [
    "import torch.nn.functional as F\n",
    "import torch.optim as optim\n",
    "from torchsummary import summary\n",
    "from tqdm import tqdm\n",
    "from CNN import CNN"
   ]
  },
  {
   "cell_type": "markdown",
   "metadata": {},
   "source": [
    "#           Definition of CNN-Modell\n",
    "<center><img src=\"img/CNN_Architecture.png\"/></center>\n"
   ]
  },
  {
   "cell_type": "code",
   "execution_count": 9,
   "metadata": {},
   "outputs": [],
   "source": [
    "# CNN Klasse\n",
    "cnn = CNN()\n",
    "# Stochastic gradient descent\n",
    "# USe  network.cuda() to transport params to gpu\n",
    "optimizer = optim.SGD(cnn.parameters(), lr=learning_rate,momentum=momentum)"
   ]
  },
  {
   "cell_type": "code",
   "execution_count": 10,
   "metadata": {},
   "outputs": [],
   "source": [
    "#summary(cnn, input_size=(1, 28, 28))"
   ]
  },
  {
   "cell_type": "markdown",
   "metadata": {},
   "source": [
    "# Training Definition"
   ]
  },
  {
   "cell_type": "code",
   "execution_count": 11,
   "metadata": {},
   "outputs": [],
   "source": [
    "# Store the losses calculated while training \n",
    "train_losses = []\n",
    "# Store how many images got trained (make a list for plotting)\n",
    "train_counter = []\n",
    "# Store the losses calculated while testing \n",
    "test_losses = []\n",
    "# Store how many images got testes (make a list for plotting)\n",
    "test_counter = [i*len(train_loader.dataset) for i in range(epochs + 1)]"
   ]
  },
  {
   "cell_type": "code",
   "execution_count": 12,
   "metadata": {},
   "outputs": [],
   "source": [
    "def train(epoch, model, train_loader, optimizer):\n",
    "  model.train()\n",
    "  progress_bar=tqdm(train_loader)\n",
    "  for batch_idx, (data, target) in enumerate(tqdm(train_loader)):\n",
    "    # gradient auf 0 zurücksetzten\n",
    "    optimizer.zero_grad()\n",
    "    output = model(data)\n",
    "    #The negative log likelihood loss.\n",
    "    loss = F.nll_loss(output, target)\n",
    "    # BAckpropagation\n",
    "    loss.backward()\n",
    "    # Performs a single optimization step.\n",
    "    optimizer.step()\n",
    "    # Log every log_interval\n",
    "    if batch_idx % log_interval == 0:\n",
    "      progress_bar.set_description('Train Epoch: {} [{}/{} ({:.0f}%)]\\tLoss: {:.6f}'.format(\n",
    "      epoch, batch_idx * len(data), len(train_loader.dataset),\n",
    "      100. * batch_idx / len(train_loader), loss.item()))\n",
    "      train_losses.append(loss.item())\n",
    "      train_counter.append(\n",
    "        (batch_idx*batch_size_train) + ((epoch-1)*len(train_loader.dataset)))\n",
    "      #torch.save(train_loader.state_dict(), '/results/model.pth')\n",
    "      #torch.save(optimizer.state_dict(), '/results/optimizer.pth')"
   ]
  },
  {
   "cell_type": "markdown",
   "metadata": {},
   "source": [
    "# Testing"
   ]
  },
  {
   "cell_type": "code",
   "execution_count": 13,
   "metadata": {},
   "outputs": [],
   "source": [
    "def test(model,test_loader):\n",
    "  model.eval()\n",
    "  test_loss = 0\n",
    "  correct = 0\n",
    "  # Do not compute a gradient\n",
    "  with torch.no_grad():\n",
    "    for data, target in test_loader:\n",
    "      # label data: Put the test dataset into the model and let it get labeled\n",
    "      output = model(data)\n",
    "      test_loss += F.nll_loss(output, target, reduction='sum').item()\n",
    "      # Get prediction from labeld data\n",
    "      pred = output.data.max(1, keepdim=True)[1]\n",
    "      # count how many were correct\n",
    "      correct += pred.eq(target.data.view_as(pred)).sum()\n",
    "  # log test_loss\n",
    "  test_loss /= len(test_loader.dataset)\n",
    "  test_losses.append(test_loss)\n",
    "  print('\\nTest set: Avg. loss: {:.4f}, Accuracy: {}/{} ({:.0f}%)\\n'.format(\n",
    "    test_loss, correct, len(test_loader.dataset),\n",
    "    100. * correct / len(test_loader.dataset)))"
   ]
  },
  {
   "cell_type": "markdown",
   "metadata": {},
   "source": [
    "# Test an empty untrained model"
   ]
  },
  {
   "cell_type": "code",
   "execution_count": 14,
   "metadata": {},
   "outputs": [
    {
     "name": "stdout",
     "output_type": "stream",
     "text": [
      "\n",
      "Test set: Avg. loss: 2.3040, Accuracy: 980/10000 (10%)\n",
      "\n"
     ]
    }
   ],
   "source": [
    "test(model=cnn,test_loader=test_loader)"
   ]
  },
  {
   "cell_type": "markdown",
   "metadata": {},
   "source": [
    "# Train the model"
   ]
  },
  {
   "cell_type": "code",
   "execution_count": 15,
   "metadata": {},
   "outputs": [
    {
     "name": "stderr",
     "output_type": "stream",
     "text": [
      "100%|██████████| 469/469 [02:55<00:00,  2.67it/s]\n",
      "Train Epoch: 1 [59520/60000 (99%)]\tLoss: 0.187539:   0%|          | 0/469 [02:55<?, ?it/s]\n"
     ]
    },
    {
     "name": "stdout",
     "output_type": "stream",
     "text": [
      "\n",
      "Test set: Avg. loss: 0.1378, Accuracy: 9605/10000 (96%)\n",
      "\n"
     ]
    },
    {
     "name": "stderr",
     "output_type": "stream",
     "text": [
      "100%|██████████| 469/469 [02:54<00:00,  2.69it/s]\n",
      "Train Epoch: 2 [59520/60000 (99%)]\tLoss: 0.159172:   0%|          | 0/469 [02:54<?, ?it/s]\n"
     ]
    },
    {
     "name": "stdout",
     "output_type": "stream",
     "text": [
      "\n",
      "Test set: Avg. loss: 0.0715, Accuracy: 9783/10000 (98%)\n",
      "\n"
     ]
    },
    {
     "name": "stderr",
     "output_type": "stream",
     "text": [
      "100%|██████████| 469/469 [02:48<00:00,  2.79it/s]\n",
      "Train Epoch: 3 [59520/60000 (99%)]\tLoss: 0.057393:   0%|          | 0/469 [02:48<?, ?it/s]\n"
     ]
    },
    {
     "name": "stdout",
     "output_type": "stream",
     "text": [
      "\n",
      "Test set: Avg. loss: 0.0483, Accuracy: 9863/10000 (99%)\n",
      "\n"
     ]
    },
    {
     "name": "stderr",
     "output_type": "stream",
     "text": [
      "100%|██████████| 469/469 [02:53<00:00,  2.71it/s]\n",
      "Train Epoch: 4 [59520/60000 (99%)]\tLoss: 0.082413:   0%|          | 0/469 [02:53<?, ?it/s]\n"
     ]
    },
    {
     "name": "stdout",
     "output_type": "stream",
     "text": [
      "\n",
      "Test set: Avg. loss: 0.0382, Accuracy: 9885/10000 (99%)\n",
      "\n"
     ]
    },
    {
     "name": "stderr",
     "output_type": "stream",
     "text": [
      "100%|██████████| 469/469 [02:52<00:00,  2.72it/s]\n",
      "Train Epoch: 5 [59520/60000 (99%)]\tLoss: 0.050822:   0%|          | 0/469 [02:52<?, ?it/s]\n"
     ]
    },
    {
     "name": "stdout",
     "output_type": "stream",
     "text": [
      "\n",
      "Test set: Avg. loss: 0.0383, Accuracy: 9885/10000 (99%)\n",
      "\n"
     ]
    },
    {
     "name": "stderr",
     "output_type": "stream",
     "text": [
      "100%|██████████| 469/469 [02:54<00:00,  2.69it/s]\n",
      "Train Epoch: 6 [59520/60000 (99%)]\tLoss: 0.099834:   0%|          | 0/469 [02:54<?, ?it/s]\n"
     ]
    },
    {
     "name": "stdout",
     "output_type": "stream",
     "text": [
      "\n",
      "Test set: Avg. loss: 0.0326, Accuracy: 9899/10000 (99%)\n",
      "\n"
     ]
    },
    {
     "name": "stderr",
     "output_type": "stream",
     "text": [
      "100%|██████████| 469/469 [03:02<00:00,  2.57it/s]\n",
      "Train Epoch: 7 [59520/60000 (99%)]\tLoss: 0.040009:   0%|          | 0/469 [03:02<?, ?it/s]\n"
     ]
    },
    {
     "name": "stdout",
     "output_type": "stream",
     "text": [
      "\n",
      "Test set: Avg. loss: 0.0309, Accuracy: 9910/10000 (99%)\n",
      "\n"
     ]
    },
    {
     "name": "stderr",
     "output_type": "stream",
     "text": [
      "100%|██████████| 469/469 [02:48<00:00,  2.79it/s]\n",
      "Train Epoch: 8 [59520/60000 (99%)]\tLoss: 0.036155:   0%|          | 0/469 [02:48<?, ?it/s]\n"
     ]
    },
    {
     "name": "stdout",
     "output_type": "stream",
     "text": [
      "\n",
      "Test set: Avg. loss: 0.0251, Accuracy: 9924/10000 (99%)\n",
      "\n"
     ]
    }
   ],
   "source": [
    "for epoch in range(1, epochs + 1):\n",
    "  train(epoch,cnn, train_loader, optimizer)\n",
    "  test(cnn,test_loader)"
   ]
  },
  {
   "cell_type": "markdown",
   "metadata": {},
   "source": [
    "# Performance"
   ]
  },
  {
   "cell_type": "code",
   "execution_count": 16,
   "metadata": {},
   "outputs": [
    {
     "name": "stdout",
     "output_type": "stream",
     "text": [
      "752\n",
      "752\n"
     ]
    },
    {
     "data": {
      "text/plain": [
       "Text(0, 0.5, 'negative log likelihood loss')"
      ]
     },
     "execution_count": 16,
     "metadata": {},
     "output_type": "execute_result"
    },
    {
     "data": {
      "image/png": "[encoded data removed]",
      "text/plain": [
       "<Figure size 432x288 with 1 Axes>"
      ]
     },
     "metadata": {
      "needs_background": "light"
     },
     "output_type": "display_data"
    }
   ],
   "source": [
    "fig = plt.figure()\n",
    "plt.plot(train_counter, train_losses, color='blue')\n",
    "print(len(train_counter))\n",
    "print(len(train_losses))\n",
    "plt.scatter(test_counter, test_losses, color='red')\n",
    "plt.legend(['Train Loss', 'Test Loss'], loc='upper right')\n",
    "plt.xlabel('number of training examples seen')\n",
    "plt.ylabel('negative log likelihood loss')"
   ]
  },
  {
   "cell_type": "markdown",
   "metadata": {},
   "source": [
    "# Test the model and make some Predictions"
   ]
  },
  {
   "cell_type": "code",
   "execution_count": 17,
   "metadata": {},
   "outputs": [],
   "source": [
    "def test_model(model,test_loader):\n",
    "  model.eval()\n",
    "  test_loss = 0\n",
    "  correct = 0\n",
    "  # Do not compute a gradient\n",
    "  with torch.no_grad():\n",
    "    for data, target in test_loader:\n",
    "      # label data: Put the test dataset into the model and let it get labeled\n",
    "      output = model(data)\n",
    "      test_loss += F.nll_loss(output, target, reduction='sum').item()\n",
    "      # Get prediction from labeld data\n",
    "      pred = output.data.max(1, keepdim=True)[1]\n",
    "      # count how many were correct\n",
    "      correct += pred.eq(target.data.view_as(pred)).sum()\n",
    "  # log test_loss\n",
    "  print('\\nTest set: Avg. loss: {:.4f}, Accuracy: {}/{} ({:.0f}%)\\n'.format(\n",
    "    test_loss, correct, len(test_loader.dataset),\n",
    "    100. * correct / len(test_loader.dataset)))"
   ]
  },
  {
   "cell_type": "code",
   "execution_count": 18,
   "metadata": {},
   "outputs": [
    {
     "name": "stdout",
     "output_type": "stream",
     "text": [
      "torch.float32\n",
      "torch.float32\n",
      "torch.float32\n",
      "torch.float32\n",
      "torch.float32\n",
      "torch.float32\n",
      "torch.float32\n",
      "torch.float32\n",
      "torch.float32\n",
      "torch.float32\n",
      "\n",
      "Test set: Avg. loss: 251.2332, Accuracy: 9924/10000 (99%)\n",
      "\n"
     ]
    }
   ],
   "source": [
    "test_model(model=cnn,test_loader=test_loader)"
   ]
  },
  {
   "cell_type": "code",
   "execution_count": 19,
   "metadata": {},
   "outputs": [],
   "source": [
    "# Label the test_data set \n",
    "with torch.no_grad():\n",
    "  output = cnn(test_data)"
   ]
  },
  {
   "cell_type": "code",
   "execution_count": 22,
   "metadata": {},
   "outputs": [
    {
     "data": {
      "image/png": "[encoded data removed]",
      "text/plain": [
       "<Figure size 432x288 with 6 Axes>"
      ]
     },
     "metadata": {},
     "output_type": "display_data"
    }
   ],
   "source": [
    "# plot some predictions from the test dataset\n",
    "# First 6 predictions from actual example_test iteration step\n",
    "fig = plt.figure()\n",
    "k=30\n",
    "#print(test_data[4+k][0].numpy()) # Get numpy array for data\n",
    "for i in range(6):\n",
    "  plt.subplot(2,3,i+1)\n",
    "  plt.tight_layout()\n",
    "  plt.imshow(test_data[i+k][0], cmap='gray', interpolation='none')\n",
    "  plt.title(\"Prediction: {} Label: {}\".format(\n",
    "    output.data.max(1, keepdim=True)[1][i+k].item(),targets_test[i+k]),color=\"green\")\n",
    "  plt.xticks([])\n",
    "  plt.yticks([])\n"
   ]
  },
  {
   "cell_type": "markdown",
   "metadata": {},
   "source": [
    "# Save the Model"
   ]
  },
  {
   "cell_type": "code",
   "execution_count": 21,
   "metadata": {},
   "outputs": [],
   "source": [
    "#torch.save(cnn, './data/model.pth')\n",
    "torch.save(cnn.state_dict(), './data/model.pth')"
   ]
  }
 ],
 "metadata": {
  "interpreter": {
   "hash": "92681fa9cabcd1408344435c15ff30a437254e4e0181f64dbbd14167cc33d8b6"
  },
  "kernelspec": {
   "display_name": "Python 3.9.8 64-bit ('CNN_Number_Recognition-siYzgVKK': pipenv)",
   "language": "python",
   "name": "python3"
  },
  "language_info": {
   "codemirror_mode": {
    "name": "ipython",
    "version": 3
   },
   "file_extension": ".py",
   "mimetype": "text/x-python",
   "name": "python",
   "nbconvert_exporter": "python",
   "pygments_lexer": "ipython3",
   "version": "3.9.8"
  },
  "orig_nbformat": 4
 },
 "nbformat": 4,
 "nbformat_minor": 2
}
